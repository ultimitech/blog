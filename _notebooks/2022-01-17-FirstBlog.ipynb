{
 "cells": [
  {
   "cell_type": "markdown",
   "id": "0c6fd08d",
   "metadata": {},
   "source": [
    "# \"The Beauty of Pandas\"\n",
    "\n",
    "> Using Pandas for Data Engineering\n",
    "- toc: true\n",
    "- branch: master\n",
    "- badges: false\n",
    "- comments: true\n",
    "- hide: false\n",
    "- search_exclude: true\n",
    "- metadata_key1: metadata_value1\n",
    "- metadata_key2: metadata_value2\n",
    "- image: images/pandas_fig1.jpg\n",
    "- categories: [Data_Engineering,  Python,Pandas]\n",
    "- show_tags: true"
   ]
  },
  {
   "cell_type": "markdown",
   "id": "f9129c1b",
   "metadata": {},
   "source": [
    "*Pandas* is a widely used Python library that facilitates data engineering tasks. In this blog we will apply typical data engineering tasks to the *Titanic* data set."
   ]
  },
  {
   "cell_type": "markdown",
   "id": "96a69625",
   "metadata": {},
   "source": [
    "## 1. Business Understanding"
   ]
  },
  {
   "cell_type": "markdown",
   "id": "12b5b68e",
   "metadata": {},
   "source": [
    "This dataset database contains a list of all passengers on Titanic.\n",
    "\n",
    "![Figure 1  Titanic Advertisement](../images/pandas_fig1.jpg \"Figure 1  Titanic Advertisement\")"
   ]
  },
  {
   "cell_type": "markdown",
   "id": "ff00fc19",
   "metadata": {},
   "source": []
  },
  {
   "cell_type": "code",
   "execution_count": null,
   "id": "5426c0af",
   "metadata": {},
   "outputs": [],
   "source": []
  },
  {
   "cell_type": "code",
   "execution_count": null,
   "id": "a7a13a81",
   "metadata": {},
   "outputs": [],
   "source": []
  },
  {
   "cell_type": "code",
   "execution_count": null,
   "id": "169632cf",
   "metadata": {},
   "outputs": [],
   "source": []
  }
 ],
 "metadata": {
  "kernelspec": {
   "display_name": "Python 3 (ipykernel)",
   "language": "python",
   "name": "python3"
  },
  "language_info": {
   "codemirror_mode": {
    "name": "ipython",
    "version": 3
   },
   "file_extension": ".py",
   "mimetype": "text/x-python",
   "name": "python",
   "nbconvert_exporter": "python",
   "pygments_lexer": "ipython3",
   "version": "3.10.1"
  }
 },
 "nbformat": 4,
 "nbformat_minor": 5
}
